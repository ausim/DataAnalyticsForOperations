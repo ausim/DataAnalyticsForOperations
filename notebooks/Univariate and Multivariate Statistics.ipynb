{
 "cells": [
  {
   "cell_type": "markdown",
   "metadata": {},
   "source": [
    "# Univariate and Multivariate Statistics\n",
    "\n",
    "Based on Chapter 5 and 6 from Larose and Larose\n",
    "\n",
    "2/2/2019 - Jeff Smith"
   ]
  },
  {
   "cell_type": "code",
   "execution_count": null,
   "metadata": {},
   "outputs": [],
   "source": [
    "# Standard Setup\n",
    "% matplotlib inline\n",
    "import numpy as np\n",
    "import pandas as pd\n",
    "import matplotlib.pyplot as plt\n",
    "import scipy.stats\n",
    "np.__version__, pd.__version__"
   ]
  },
  {
   "cell_type": "code",
   "execution_count": null,
   "metadata": {},
   "outputs": [],
   "source": [
    "# Normally distributed random variates\n",
    "nrvgs = np.random.normal(225, 47, 3000)"
   ]
  },
  {
   "cell_type": "code",
   "execution_count": null,
   "metadata": {},
   "outputs": [],
   "source": [
    "pd.DataFrame(nrvgs).describe()"
   ]
  },
  {
   "cell_type": "code",
   "execution_count": null,
   "metadata": {},
   "outputs": [],
   "source": [
    "# Churn Dataset\n",
    "churn = pd.read_csv(\"../data/churn.txt\")\n",
    "print (\"The churn dataset has {:,d} records with {:,d} variables each.\".format(\n",
    "    len(churn), len(churn.columns)))"
   ]
  },
  {
   "cell_type": "code",
   "execution_count": null,
   "metadata": {},
   "outputs": [],
   "source": [
    "churn.describe()"
   ]
  },
  {
   "cell_type": "code",
   "execution_count": null,
   "metadata": {},
   "outputs": [],
   "source": [
    "# Proportion of churners\n",
    "test = churn.groupby('Churn')[['Churn']].aggregate(['count'])\n",
    "test.apply(lambda x: 100*x/float(x.sum()))"
   ]
  },
  {
   "cell_type": "code",
   "execution_count": null,
   "metadata": {},
   "outputs": [],
   "source": [
    "# Arrests Dataset\n",
    "arrests = pd.read_csv(\"../data/arrests.csv\", index_col=0)\n",
    "print (\"The arrests dataset has {:,d} records with {:,d} variables each.\".format(\n",
    "    len(arrests), len(arrests.columns)))"
   ]
  },
  {
   "cell_type": "code",
   "execution_count": null,
   "metadata": {},
   "outputs": [],
   "source": [
    "arrests.describe()"
   ]
  },
  {
   "cell_type": "code",
   "execution_count": null,
   "metadata": {},
   "outputs": [],
   "source": [
    "# Baseball Dataset\n",
    "baseball = pd.read_csv(\"../data/baseball.csv\", index_col=0)\n",
    "print (\"The baseball dataset has {:,d} records with {:,d} variables each.\".format(\n",
    "    len(baseball), len(baseball)))"
   ]
  },
  {
   "cell_type": "code",
   "execution_count": null,
   "metadata": {},
   "outputs": [],
   "source": [
    "baseball.describe()"
   ]
  },
  {
   "cell_type": "code",
   "execution_count": null,
   "metadata": {},
   "outputs": [],
   "source": [
    "def mean_confidence_interval(data, confidence=0.95):\n",
    "    a = 1.0 * np.array(data)\n",
    "    n = len(a)\n",
    "    m, se = np.mean(a), scipy.stats.sem(a)\n",
    "    h = se * scipy.stats.t.ppf((1 + confidence) / 2., n-1)\n",
    "    return m, m-h, m+h"
   ]
  },
  {
   "cell_type": "code",
   "execution_count": null,
   "metadata": {},
   "outputs": [],
   "source": [
    "# 1-sample t-test on the random variate sample\n",
    "t, p = scipy.stats.ttest_1samp(nrvgs, 225)\n",
    "t, p"
   ]
  },
  {
   "cell_type": "code",
   "execution_count": null,
   "metadata": {},
   "outputs": [],
   "source": [
    "x, lcl, ucl = mean_confidence_interval(nrvgs)\n",
    "x, lcl, ucl"
   ]
  },
  {
   "cell_type": "code",
   "execution_count": null,
   "metadata": {},
   "outputs": [],
   "source": [
    "# Example - the baseball dataset\n",
    "# H_0: mean number of hits = 65\n",
    "t, p = scipy.stats.ttest_1samp(baseball.hits, 65)\n",
    "t, p"
   ]
  },
  {
   "cell_type": "code",
   "execution_count": null,
   "metadata": {},
   "outputs": [],
   "source": [
    "x, lcl, ucl = mean_confidence_interval(baseball.hits)\n",
    "x, lcl, ucl"
   ]
  },
  {
   "cell_type": "code",
   "execution_count": null,
   "metadata": {},
   "outputs": [],
   "source": [
    "# should be close to .05 (alpha from the CI)\n",
    "t, p = scipy.stats.ttest_1samp(baseball.hits, 68.293321)\n",
    "t, p"
   ]
  },
  {
   "cell_type": "code",
   "execution_count": null,
   "metadata": {},
   "outputs": [],
   "source": [
    "# should be close to .05 (alpha from the CI)\n",
    "t, p = scipy.stats.ttest_1samp(baseball.hits, 55.6825)\n",
    "t, p"
   ]
  },
  {
   "cell_type": "code",
   "execution_count": null,
   "metadata": {},
   "outputs": [],
   "source": [
    "#\n",
    "# Testing H0: Churn proportion =.1449\n",
    "#\n",
    "p = len(churn[churn.Churn == 'True.'])/len(churn)\n",
    "zdata = (p-.15)/np.sqrt(.15*.85/len(churn))\n",
    "pval = 2*scipy.stats.norm.cdf(zdata)\n",
    "zdata, pval"
   ]
  },
  {
   "cell_type": "code",
   "execution_count": null,
   "metadata": {},
   "outputs": [],
   "source": [
    "#\n",
    "# Splitting the churn dataset into a \"training\" and a \"test\" set\n",
    "# Use .75 for training, .25 for test\n",
    "mask = np.random.rand(len(churn)) < 0.75\n",
    "churn_train = churn[mask]\n",
    "churn_test = churn[~mask]\n",
    "len(churn_train), len(churn_test)"
   ]
  },
  {
   "cell_type": "code",
   "execution_count": null,
   "metadata": {},
   "outputs": [],
   "source": [
    "# Two-sample t-test - Try this (split the data + t-test) several times -- note the variation in the \n",
    "# t, p values.\n",
    "t, p = scipy.stats.ttest_ind(churn_train.CustServCalls, churn_test.CustServCalls, equal_var=False)\n",
    "t, p"
   ]
  },
  {
   "cell_type": "code",
   "execution_count": null,
   "metadata": {},
   "outputs": [],
   "source": [
    "#\n",
    "# ANOVA from Sect. 6.5\n",
    "#\n",
    "A = [30, 40, 50, 60]\n",
    "B = [25, 30, 50, 55]\n",
    "C = [25, 30, 40, 45]\n",
    "scipy.stats.f_oneway(A, B, C)"
   ]
  },
  {
   "cell_type": "code",
   "execution_count": null,
   "metadata": {},
   "outputs": [],
   "source": [
    "D = [43, 45, 45, 47]\n",
    "E = [37, 40, 40, 43]\n",
    "F = [34, 35, 35, 36]\n",
    "scipy.stats.f_oneway(D, E, F)"
   ]
  },
  {
   "cell_type": "code",
   "execution_count": null,
   "metadata": {},
   "outputs": [],
   "source": [
    "#\n",
    "# Example 11-1 from Hines & Montgomery\n",
    "#\n",
    "A = [ 7,  7, 15, 11,  9]\n",
    "B = [12, 17, 12, 18, 18]\n",
    "C = [14, 18, 18, 19, 19]\n",
    "D = [19, 25, 22, 19, 23]\n",
    "E = [ 7, 10, 11, 15, 11]\n",
    "scipy.stats.f_oneway(A, B, C, D, E)"
   ]
  },
  {
   "cell_type": "code",
   "execution_count": null,
   "metadata": {},
   "outputs": [],
   "source": [
    "churn.Churn == 'True.'"
   ]
  },
  {
   "cell_type": "code",
   "execution_count": null,
   "metadata": {},
   "outputs": [],
   "source": []
  }
 ],
 "metadata": {
  "kernelspec": {
   "display_name": "Python 3",
   "language": "python",
   "name": "python3"
  },
  "language_info": {
   "codemirror_mode": {
    "name": "ipython",
    "version": 3
   },
   "file_extension": ".py",
   "mimetype": "text/x-python",
   "name": "python",
   "nbconvert_exporter": "python",
   "pygments_lexer": "ipython3",
   "version": "3.6.4"
  }
 },
 "nbformat": 4,
 "nbformat_minor": 2
}
