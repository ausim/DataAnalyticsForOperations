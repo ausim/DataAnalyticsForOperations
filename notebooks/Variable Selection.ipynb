{
 "cells": [
  {
   "cell_type": "markdown",
   "metadata": {},
   "source": [
    "# Variable Selection Example\n",
    "\n",
    "\n",
    "04/08/2019 - Jeff Smith"
   ]
  },
  {
   "cell_type": "code",
   "execution_count": null,
   "metadata": {},
   "outputs": [],
   "source": [
    "%matplotlib inline\n",
    "import numpy as np\n",
    "import pandas as pd\n",
    "import matplotlib.pyplot as plt\n",
    "import statsmodels.api as sm\n",
    "from statsmodels.stats.anova import anova_lm"
   ]
  },
  {
   "cell_type": "markdown",
   "metadata": {},
   "source": [
    "## Sample Datasets"
   ]
  },
  {
   "cell_type": "code",
   "execution_count": null,
   "metadata": {},
   "outputs": [],
   "source": [
    "# Cerals dataset from Larose and Larose\n",
    "# Read the raw data file\n",
    "cereals = pd.read_csv(\"../data/cereals.csv\")\n",
    "# The Name field has some trailing spaces -- remove them\n",
    "cereals.Name = cereals.Name.str.strip()\n",
    "# Get rid of Quaker Oatmeal -- no Sugar values (see the book)\n",
    "cereals = cereals[cereals.Name != 'Quaker_Oatmeal']\n",
    "#cereals.head()"
   ]
  },
  {
   "cell_type": "markdown",
   "metadata": {},
   "source": [
    "## Statsmodels OLS function"
   ]
  },
  {
   "cell_type": "markdown",
   "metadata": {},
   "source": [
    "### Cereals Dataset"
   ]
  },
  {
   "cell_type": "code",
   "execution_count": null,
   "metadata": {},
   "outputs": [],
   "source": [
    "# Cereals\n",
    "X = cereals[['Sugars']]\n",
    "y = cereals.Rating\n",
    "# by default OLS doesn't compute the constant\n",
    "X = sm.add_constant(X)\n",
    "m1 = sm.OLS(y, X).fit()\n",
    "predictions = m1.predict(X)\n",
    "print(\"Std. Error of the estimate: {:.3f}\".format(np.sqrt(m1.scale)))\n",
    "print(\"                       SSR: {:.3f}\".format(m1.ssr))\n",
    "print(\"                       MSE: {:.3f}\".format(m1.mse_resid))\n",
    "m1.summary()"
   ]
  },
  {
   "cell_type": "code",
   "execution_count": null,
   "metadata": {},
   "outputs": [],
   "source": [
    "X = cereals[['Sugars', 'Fiber']]\n",
    "y = cereals.Rating\n",
    "X = sm.add_constant(X)\n",
    "m2 = sm.OLS(y, X).fit()\n",
    "predictions = m2.predict(X)\n",
    "print(\"Std. Error of the estimate: {:.3f}\".format(np.sqrt(m2.scale)))\n",
    "print(\"                       SSR: {:.3f}\".format(m2.ssr))\n",
    "print(\"                       MSE: {:.3f}\".format(m2.mse_resid))\n",
    "m2.summary()"
   ]
  },
  {
   "cell_type": "code",
   "execution_count": null,
   "metadata": {},
   "outputs": [],
   "source": [
    "# Partial F-test\n",
    "# From https://stackoverflow.com/questions/45243802/how-do-i-do-an-f-test-to-compare-nested-linear-models-in-python\n",
    "anovaResults = anova_lm(m1, m2)\n",
    "print(anovaResults)"
   ]
  },
  {
   "cell_type": "code",
   "execution_count": null,
   "metadata": {},
   "outputs": [],
   "source": [
    "X = cereals[['Sugars', 'Fiber', 'Sodium']]\n",
    "y = cereals.Rating\n",
    "X = sm.add_constant(X)\n",
    "m3 = sm.OLS(y, X).fit()\n",
    "predictions = m3.predict(X)\n",
    "print(\"Std. Error of the estimate: {:.3f}\".format(np.sqrt(m3.scale)))\n",
    "print(\"                       SSR: {:.3f}\".format(m3.ssr))\n",
    "print(\"                       MSE: {:.3f}\".format(m3.mse_resid))\n",
    "m3.summary()"
   ]
  },
  {
   "cell_type": "code",
   "execution_count": null,
   "metadata": {},
   "outputs": [],
   "source": [
    "# Partial F-test\n",
    "# From https://stackoverflow.com/questions/45243802/how-do-i-do-an-f-test-to-compare-nested-linear-models-in-python\n",
    "anovaResults = anova_lm(m2, m3)\n",
    "print(anovaResults)"
   ]
  },
  {
   "cell_type": "code",
   "execution_count": null,
   "metadata": {},
   "outputs": [],
   "source": [
    "X = cereals[['Sugars', 'Fiber', 'Sodium', 'Fat']]\n",
    "y = cereals.Rating\n",
    "X = sm.add_constant(X)\n",
    "m4 = sm.OLS(y, X).fit()\n",
    "predictions = m4.predict(X)\n",
    "print(\"Std. Error of the estimate: {:.3f}\".format(np.sqrt(m4.scale)))\n",
    "print(\"                       SSR: {:.3f}\".format(m4.ssr))\n",
    "print(\"                       MSE: {:.3f}\".format(m4.mse_resid))\n",
    "m4.summary()"
   ]
  },
  {
   "cell_type": "code",
   "execution_count": null,
   "metadata": {},
   "outputs": [],
   "source": [
    "# Partial F-test\n",
    "# From https://stackoverflow.com/questions/45243802/how-do-i-do-an-f-test-to-compare-nested-linear-models-in-python\n",
    "anovaResults = anova_lm(m3, m4)\n",
    "print(anovaResults)"
   ]
  },
  {
   "cell_type": "code",
   "execution_count": null,
   "metadata": {},
   "outputs": [],
   "source": [
    "X = cereals[['Sugars', 'Fiber', 'Sodium', 'Fat', 'Carbo']]\n",
    "y = cereals.Rating\n",
    "X = sm.add_constant(X)\n",
    "m5 = sm.OLS(y, X).fit()\n",
    "predictions = m5.predict(X)\n",
    "print(\"Std. Error of the estimate: {:.3f}\".format(np.sqrt(m5.scale)))\n",
    "print(\"                       SSR: {:.3f}\".format(m5.ssr))\n",
    "print(\"                       MSE: {:.3f}\".format(m5.mse_resid))\n",
    "m5.summary()"
   ]
  },
  {
   "cell_type": "code",
   "execution_count": null,
   "metadata": {},
   "outputs": [],
   "source": [
    "# Partial F-test\n",
    "# From https://stackoverflow.com/questions/45243802/how-do-i-do-an-f-test-to-compare-nested-linear-models-in-python\n",
    "anovaResults = anova_lm(m4, m5)\n",
    "print(anovaResults)"
   ]
  },
  {
   "cell_type": "code",
   "execution_count": null,
   "metadata": {},
   "outputs": [],
   "source": []
  }
 ],
 "metadata": {
  "kernelspec": {
   "display_name": "Python 3",
   "language": "python",
   "name": "python3"
  },
  "language_info": {
   "codemirror_mode": {
    "name": "ipython",
    "version": 3
   },
   "file_extension": ".py",
   "mimetype": "text/x-python",
   "name": "python",
   "nbconvert_exporter": "python",
   "pygments_lexer": "ipython3",
   "version": "3.6.4"
  }
 },
 "nbformat": 4,
 "nbformat_minor": 2
}
