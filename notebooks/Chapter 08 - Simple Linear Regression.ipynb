{
 "cells": [
  {
   "cell_type": "markdown",
   "metadata": {},
   "source": [
    "# Simple Linear Regression\n",
    "Material from Chapter 8 of Larose and Larose and external sources\n",
    "\n",
    "02/15/2019 - Jeff Smith"
   ]
  },
  {
   "cell_type": "code",
   "execution_count": null,
   "metadata": {},
   "outputs": [],
   "source": [
    "%matplotlib inline\n",
    "import numpy as np\n",
    "import pandas as pd\n",
    "import matplotlib.pyplot as plt\n",
    "import scipy.stats"
   ]
  },
  {
   "cell_type": "code",
   "execution_count": null,
   "metadata": {},
   "outputs": [],
   "source": [
    "# Some support functions - based on w[0] as intercept; w[1] as slope\n",
    "def cost(y, x, w) :\n",
    "    return sum((y-(w[0] + w[1]*x))**2)\n",
    "\n",
    "def show(y, x, w = [0,0], show_reg = 1) :\n",
    "    if w[0] or w[1]:\n",
    "        print(\"Solution: RSS={:,.3f}; w = [{:.4f}, {:.4f}]\".format(cost(y, x, w), w[0], w[1]))\n",
    "    plt.figure(figsize=(8,6))\n",
    "    plt.scatter(x, y);\n",
    "    if show_reg:\n",
    "        axes = plt.gca()\n",
    "        x_vals = np.array(axes.get_xlim())\n",
    "        y_vals = w[0] + w[1] * x_vals\n",
    "        plt.plot(x_vals, y_vals, '--');"
   ]
  },
  {
   "cell_type": "markdown",
   "metadata": {},
   "source": [
    "## Sample Datasets"
   ]
  },
  {
   "cell_type": "code",
   "execution_count": null,
   "metadata": {},
   "outputs": [],
   "source": [
    "# Cerals dataset from Larose and Larose\n",
    "# Read the raw data file\n",
    "cereals = pd.read_csv(\"../data/cereals.csv\")\n",
    "# The Name field has some trailing spaces -- remove them\n",
    "cereals.Name = cereals.Name.str.strip()\n",
    "# Get rid of Quaker Oatmeal -- no Sugar values (see the book)\n",
    "cereals = cereals[cereals.Name != 'Quaker_Oatmeal']\n",
    "cereals.head()"
   ]
  },
  {
   "cell_type": "code",
   "execution_count": null,
   "metadata": {},
   "outputs": [],
   "source": [
    "cereals.describe()"
   ]
  },
  {
   "cell_type": "code",
   "execution_count": null,
   "metadata": {},
   "outputs": [],
   "source": [
    "# Show the scatter plot\n",
    "w = [0,0]\n",
    "show(cereals.Rating,cereals.Sugars,w,0)"
   ]
  },
  {
   "cell_type": "code",
   "execution_count": null,
   "metadata": {},
   "outputs": [],
   "source": [
    "# Poverty dataset from https://newonlinecourses.science.psu.edu/stat462/node/101/\n",
    "# Read the raw data file\n",
    "poverty = pd.read_csv(\"../data/teen_birthrate_poverty.csv\")\n",
    "poverty.head()"
   ]
  },
  {
   "cell_type": "code",
   "execution_count": null,
   "metadata": {},
   "outputs": [],
   "source": [
    "poverty.describe()"
   ]
  },
  {
   "cell_type": "code",
   "execution_count": null,
   "metadata": {},
   "outputs": [],
   "source": [
    "# Show the scatter plot - Brth15to17 ~ PovPct\n",
    "w =[0,0]\n",
    "show(poverty.Brth15to17, poverty.PovPct, w, 0)"
   ]
  },
  {
   "cell_type": "code",
   "execution_count": null,
   "metadata": {},
   "outputs": [],
   "source": [
    "# Lung Function dataset from https://newonlinecourses.science.psu.edu/stat462/node/101/\n",
    "# Read the raw data file\n",
    "lung = pd.read_csv(\"../data/lung_function.csv\")\n",
    "lung.head()"
   ]
  },
  {
   "cell_type": "code",
   "execution_count": null,
   "metadata": {},
   "outputs": [],
   "source": [
    "lung.describe()"
   ]
  },
  {
   "cell_type": "code",
   "execution_count": null,
   "metadata": {},
   "outputs": [],
   "source": [
    "# FEV ~ age\n",
    "w =[0,0]\n",
    "show(lung.FEV, lung.age, w, 0)"
   ]
  },
  {
   "cell_type": "code",
   "execution_count": null,
   "metadata": {},
   "outputs": [],
   "source": [
    "# Random, uncorrelated values\n",
    "# rnd - x ~ U(0,100), y ~ expo(18)\n",
    "x = np.random.uniform(0, 100, 150)\n",
    "y = np.random.exponential(18, 150)\n",
    "rnd = pd.DataFrame(data={\"x\":x, \"y\":y})\n",
    "rnd.head()"
   ]
  },
  {
   "cell_type": "code",
   "execution_count": null,
   "metadata": {},
   "outputs": [],
   "source": [
    "rnd.describe()"
   ]
  },
  {
   "cell_type": "code",
   "execution_count": null,
   "metadata": {},
   "outputs": [],
   "source": [
    "w = [0,0]\n",
    "show(rnd.y, rnd.x,w,0)"
   ]
  },
  {
   "cell_type": "markdown",
   "metadata": {},
   "source": [
    "## Our Regression Function"
   ]
  },
  {
   "cell_type": "code",
   "execution_count": null,
   "metadata": {},
   "outputs": [],
   "source": [
    "def regress(y, x, show = 0):\n",
    "    w = [0.0,0.0]\n",
    "    N = len(y)\n",
    "    sy = np.sum(y)\n",
    "    sx = np.sum(x)\n",
    "    sxy = np.sum(x*y)\n",
    "    sxx = np.sum(x*x)\n",
    "    if show:\n",
    "        print(\"N = {:}, sy = {:}, sx = {:}, sxy = {:}, sxx = {:}\".format(N, sy, sx, sxy, sxx))\n",
    "    w[1] = sxy - (sx * sy)/N\n",
    "    w[1] = w[1] / (sxx - (sx * sx)/N)\n",
    "    w[0] = sy/N - w[1]*sx/N\n",
    "    if show:\n",
    "        print(\"W = ({:}, {:})\".format(w[0], w[1]))\n",
    "    return w"
   ]
  },
  {
   "cell_type": "code",
   "execution_count": null,
   "metadata": {},
   "outputs": [],
   "source": [
    "# cereals\n",
    "w = regress(cereals.Rating, cereals.Sugars)\n",
    "show(cereals.Rating, cereals.Sugars,w)"
   ]
  },
  {
   "cell_type": "code",
   "execution_count": null,
   "metadata": {},
   "outputs": [],
   "source": [
    "# poverty\n",
    "w = regress(poverty.Brth15to17, poverty.PovPct, 1)\n",
    "show(poverty.Brth15to17, poverty.PovPct, w)"
   ]
  },
  {
   "cell_type": "code",
   "execution_count": null,
   "metadata": {},
   "outputs": [],
   "source": [
    "# lung function\n",
    "w = regress(lung.FEV, lung.age)\n",
    "show(lung.FEV, lung.age, w)"
   ]
  },
  {
   "cell_type": "code",
   "execution_count": null,
   "metadata": {},
   "outputs": [],
   "source": [
    "# rnd\n",
    "w = regress(rnd.y, rnd.x, 0)\n",
    "show(rnd.y, rnd.x, w)"
   ]
  },
  {
   "cell_type": "markdown",
   "metadata": {},
   "source": [
    "### Hiking Data Example"
   ]
  },
  {
   "cell_type": "code",
   "execution_count": null,
   "metadata": {},
   "outputs": [],
   "source": [
    "# Hiking example from Larose and Larose\n",
    "hike = pd.DataFrame(data={'x':[2,2,3,4,4,5,6,7,8,9], 'y':[10, 11, 12, 13, 14, 15, 20, 18, 22, 25]})\n",
    "w = regress(hike.y, hike.x,0)\n",
    "show(hike.y, hike.x, w)"
   ]
  },
  {
   "cell_type": "code",
   "execution_count": null,
   "metadata": {},
   "outputs": [],
   "source": [
    "# mean response\n",
    "np.mean(hike.y)"
   ]
  },
  {
   "cell_type": "code",
   "execution_count": null,
   "metadata": {},
   "outputs": [],
   "source": [
    "# (y_j - y_bar)^2\n",
    "(hike.y - np.mean(hike.y))**2"
   ]
  },
  {
   "cell_type": "code",
   "execution_count": null,
   "metadata": {},
   "outputs": [],
   "source": [
    "# SST\n",
    "sum((hike.y - np.mean(hike.y))**2)"
   ]
  },
  {
   "cell_type": "code",
   "execution_count": null,
   "metadata": {},
   "outputs": [],
   "source": [
    "hike['y_j'] = 6 + 2*hike.x\n",
    "hike['residual'] = hike.y-hike.y_j\n",
    "hike['perr'] = hike.residual**2\n",
    "hike['terr'] = (16 - hike.y)**2\n",
    "hike['reg'] = (16 - hike.y_j)**2 \n",
    "hike"
   ]
  },
  {
   "cell_type": "code",
   "execution_count": null,
   "metadata": {},
   "outputs": [],
   "source": [
    "print(\"SSE = {:.2f}; SST = {:.2f}, SSR = {:.2f}\".format(sum(hike.perr), sum(hike.terr), sum(hike.reg)))"
   ]
  },
  {
   "cell_type": "code",
   "execution_count": null,
   "metadata": {},
   "outputs": [],
   "source": [
    "print(\"r^2 = {:.2f}\".format(sum(hike.reg)/sum(hike.terr)))"
   ]
  },
  {
   "cell_type": "markdown",
   "metadata": {},
   "source": [
    "## Scipy's Basic Regression Function"
   ]
  },
  {
   "cell_type": "code",
   "execution_count": null,
   "metadata": {},
   "outputs": [],
   "source": [
    "# Cereals\n",
    "w = [0,0]\n",
    "w[1], w[0], rval, pval, stderr = scipy.stats.linregress(cereals.Sugars, cereals.Rating)\n",
    "print(\"Intercept: {:.2f}; Slope: {:.2f}; r-Square: {:.2f}; p-value: {:.2f}; se grad.: {:.2f}\".\n",
    "      format(w[0], w[1], rval**2,pval, stderr))\n",
    "show(cereals.Rating, cereals.Sugars, w)"
   ]
  },
  {
   "cell_type": "code",
   "execution_count": null,
   "metadata": {},
   "outputs": [],
   "source": [
    "# Poverty\n",
    "w = [0,0]\n",
    "w[1], w[0], rval, pval, stderr = scipy.stats.linregress(poverty.PovPct, poverty.Brth15to17)\n",
    "print(\"Intercept: {:.2f}; Slope: {:.2f}; r-Square: {:.2f}; p-value: {:.2f}; se grad.: {:.2f}\".\n",
    "      format(w[0], w[1], rval**2,pval, stderr))\n",
    "show(poverty.Brth15to17, poverty.PovPct, w)"
   ]
  },
  {
   "cell_type": "code",
   "execution_count": null,
   "metadata": {},
   "outputs": [],
   "source": [
    "# Lung Function\n",
    "w = [0,0]\n",
    "w[1], w[0], rval, pval, stderr = scipy.stats.linregress(lung.age, lung.FEV)\n",
    "print(\"Intercept: {:.2f}; Slope: {:.2f}; r-Square: {:.2f}; p-value: {:.2f}; se grad.: {:.2f}\".\n",
    "      format(w[0], w[1], rval**2,pval, stderr))\n",
    "show(lung.FEV, lung.age, w)"
   ]
  },
  {
   "cell_type": "code",
   "execution_count": null,
   "metadata": {},
   "outputs": [],
   "source": [
    "# rnd\n",
    "w = [0,0]\n",
    "w[1], w[0], rval, pval, stderr = scipy.stats.linregress(rnd.x, rnd.y)\n",
    "print(\"Intercept: {:.2f}; Slope: {:.2f}; r-Square: {:.2f}; p-value: {:.2f}; se grad.: {:.2f}\".\n",
    "      format(w[0], w[1], rval**2,pval, stderr))\n",
    "show(rnd.y, rnd.x, w)"
   ]
  },
  {
   "cell_type": "code",
   "execution_count": null,
   "metadata": {},
   "outputs": [],
   "source": [
    "# Hiking Data\n",
    "w = [0,0]\n",
    "w[1], w[0], rval, pval, stderr = scipy.stats.linregress(hike.x, hike.y)\n",
    "print(\"Intercept: {:.2f}; Slope: {:.2f}; r-Square: {:.2f}; p-value: {:.2f}; se grad.: {:.2f}\".\n",
    "      format(w[0], w[1], rval**2,pval, stderr))\n",
    "show(hike.y, hike.x, w)"
   ]
  },
  {
   "cell_type": "markdown",
   "metadata": {},
   "source": [
    "## Statsmodels OLS function"
   ]
  },
  {
   "cell_type": "code",
   "execution_count": null,
   "metadata": {},
   "outputs": [],
   "source": [
    "import statsmodels.api as sm"
   ]
  },
  {
   "cell_type": "code",
   "execution_count": null,
   "metadata": {},
   "outputs": [],
   "source": [
    "# Cereals\n",
    "X = sm.add_constant(cereals.Sugars)\n",
    "result = sm.OLS(cereals.Rating, X).fit()\n",
    "result.summary()"
   ]
  },
  {
   "cell_type": "code",
   "execution_count": null,
   "metadata": {},
   "outputs": [],
   "source": [
    "# rnd\n",
    "X = sm.add_constant(rnd.x)\n",
    "result = sm.OLS(rnd.y, X).fit()\n",
    "result.summary()"
   ]
  },
  {
   "cell_type": "markdown",
   "metadata": {},
   "source": [
    "## Normal Probility Plots of Residuals"
   ]
  },
  {
   "cell_type": "code",
   "execution_count": null,
   "metadata": {},
   "outputs": [],
   "source": [
    "# Already computed and stored residulas for the hike example \n",
    "res = scipy.stats.probplot(hike.residual, plot=plt)"
   ]
  },
  {
   "cell_type": "code",
   "execution_count": null,
   "metadata": {},
   "outputs": [],
   "source": [
    "# Poverty Brth15to17 ~ PovPct\n",
    "poverty['residuals'] = poverty.Brth15to17 - 4.267 - 1.3733*poverty.PovPct"
   ]
  },
  {
   "cell_type": "code",
   "execution_count": null,
   "metadata": {},
   "outputs": [],
   "source": [
    " res = scipy.stats.probplot(poverty.residuals, plot=plt)"
   ]
  },
  {
   "cell_type": "code",
   "execution_count": null,
   "metadata": {},
   "outputs": [],
   "source": [
    "# Rnd data\n",
    "rnd['residuals'] = rnd.y - 16.69 + 0.03*rnd.x"
   ]
  },
  {
   "cell_type": "code",
   "execution_count": null,
   "metadata": {},
   "outputs": [],
   "source": [
    " res = scipy.stats.probplot(rnd.residuals, plot=plt)"
   ]
  },
  {
   "cell_type": "code",
   "execution_count": null,
   "metadata": {},
   "outputs": [],
   "source": []
  }
 ],
 "metadata": {
  "kernelspec": {
   "display_name": "Python 3",
   "language": "python",
   "name": "python3"
  },
  "language_info": {
   "codemirror_mode": {
    "name": "ipython",
    "version": 3
   },
   "file_extension": ".py",
   "mimetype": "text/x-python",
   "name": "python",
   "nbconvert_exporter": "python",
   "pygments_lexer": "ipython3",
   "version": "3.6.4"
  }
 },
 "nbformat": 4,
 "nbformat_minor": 2
}
