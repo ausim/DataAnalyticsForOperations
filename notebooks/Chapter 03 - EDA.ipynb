{
 "cells": [
  {
   "cell_type": "markdown",
   "metadata": {},
   "source": [
    "# Chapter 03 - Exploratory Data Analysis (EDA)\n",
    "\n",
    "12/20/2018 - Jeff Smith\n",
    "\n",
    "Based on material from Larose and Larose, 2015"
   ]
  },
  {
   "cell_type": "code",
   "execution_count": null,
   "metadata": {},
   "outputs": [],
   "source": [
    "% matplotlib inline\n",
    "import numpy as np\n",
    "import pandas as pd\n",
    "import matplotlib.pyplot as plt\n",
    "import seaborn as sns\n",
    "np.__version__, pd.__version__"
   ]
  },
  {
   "cell_type": "markdown",
   "metadata": {},
   "source": [
    "## Using the Churn dataset"
   ]
  },
  {
   "cell_type": "code",
   "execution_count": null,
   "metadata": {},
   "outputs": [],
   "source": [
    "churn = pd.read_csv(\"../data/churn.txt\")\n",
    "print (\"The churn dataset has {:,d} records with {:,d} variables each.\".format(\n",
    "    len(churn), len(churn.columns)))\n",
    "churn.head()"
   ]
  },
  {
   "cell_type": "code",
   "execution_count": null,
   "metadata": {},
   "outputs": [],
   "source": [
    "# Overview of the numeric values (note that the AreaCode column is not useful)\n",
    "churn.describe()"
   ]
  },
  {
   "cell_type": "code",
   "execution_count": null,
   "metadata": {},
   "outputs": [],
   "source": [
    "# Have a look at the target variable\n",
    "churn['Churn'].value_counts().plot(kind='bar');"
   ]
  },
  {
   "cell_type": "code",
   "execution_count": null,
   "metadata": {},
   "outputs": [],
   "source": [
    "churn.groupby('Churn')[['Churn']].aggregate(['count'])"
   ]
  },
  {
   "cell_type": "code",
   "execution_count": null,
   "metadata": {},
   "outputs": [],
   "source": [
    "# Categorical variables\n",
    "fig, ax = plt.subplots(1, 2, figsize=(10,5))\n",
    "churn['IntPlan'].value_counts().plot(kind='bar', ax=ax[0])\n",
    "churn['VMailPlan'].value_counts().plot(kind='bar', ax=ax[1])\n",
    "ax[0].set(title=\"Int. Plan\")\n",
    "ax[1].set(title=\"VMail Plan\");"
   ]
  },
  {
   "cell_type": "code",
   "execution_count": null,
   "metadata": {},
   "outputs": [],
   "source": [
    "# Contingency Tables\n",
    "# Initial version\n",
    "pd.crosstab(churn.Churn, churn.IntPlan)"
   ]
  },
  {
   "cell_type": "code",
   "execution_count": null,
   "metadata": {},
   "outputs": [],
   "source": [
    "# Propotions instead - use a lambda function with apply\n",
    "pd.crosstab(churn.Churn, churn.IntPlan).apply(lambda r: r/r.sum(), axis=1)"
   ]
  },
  {
   "cell_type": "code",
   "execution_count": null,
   "metadata": {},
   "outputs": [],
   "source": [
    "# For later versions of Pandas\n",
    "pd.crosstab(churn.Churn, churn.IntPlan, normalize=\"index\")"
   ]
  },
  {
   "cell_type": "code",
   "execution_count": null,
   "metadata": {},
   "outputs": [],
   "source": [
    "# Look at day mins and night mins\n",
    "fig, ax = plt.subplots(1, 2, figsize=(10,5))\n",
    "ax[0].hist(churn['DayMins'])\n",
    "ax[0].set(xlabel='Day Minutes', ylabel='Frequency',\n",
    "       title='Day Minutes');\n",
    "ax[1].hist(churn['NightMins'])\n",
    "ax[1].set(xlabel='Night Minutes', ylabel='Frequency',\n",
    "       title='Night Minutes');\n"
   ]
  },
  {
   "cell_type": "code",
   "execution_count": null,
   "metadata": {},
   "outputs": [],
   "source": [
    "# Look at International Calls and Calls to Customer Service\n",
    "fig, ax = plt.subplots(1, 2, figsize=(10,5))\n",
    "ax[0].hist(churn['IntlCalls'])\n",
    "ax[0].set(xlabel='Intl Calls', ylabel='Frequency',\n",
    "       title='International Calls');\n",
    "ax[1].hist(churn['CustServCalls'])\n",
    "ax[1].set(xlabel='Cust Serv Calls', ylabel='Frequency',\n",
    "       title='Customer Service Calls');\n",
    "# Need to normalize if we're going to create an \"average\" metric."
   ]
  },
  {
   "cell_type": "code",
   "execution_count": null,
   "metadata": {},
   "outputs": [],
   "source": [
    "# Correlation between Day/Evening Calls?\n",
    "ax = plt.axes()\n",
    "ax.set(xlabel='Evening Calls', ylabel='Day Calls',\n",
    "       title='Day Calls vs. Evening Calls');\n",
    "plt.scatter(churn['EveCalls'], churn['DayCalls']);"
   ]
  },
  {
   "cell_type": "code",
   "execution_count": null,
   "metadata": {},
   "outputs": [],
   "source": [
    "# From https://towardsdatascience.com/visualizing-data-with-pair-plots-in-python-f228cf529166\n",
    "# Create the default pairplot - This takes a while to generate, but is very useful.\n",
    "sns.pairplot(churn);"
   ]
  },
  {
   "cell_type": "code",
   "execution_count": null,
   "metadata": {},
   "outputs": [],
   "source": [
    "# Subset of the columns\n",
    "sns.pairplot(churn[['DayMins', 'DayCalls', 'NightMins', 'NightCalls']]);"
   ]
  },
  {
   "cell_type": "code",
   "execution_count": null,
   "metadata": {},
   "outputs": [],
   "source": [
    "sns.pairplot(churn[['AccountLength', 'CustServCalls', 'DayCalls']]);"
   ]
  },
  {
   "cell_type": "code",
   "execution_count": null,
   "metadata": {},
   "outputs": [],
   "source": [
    "# Correlation among the predictors\n",
    "sns.pairplot(churn[['DayMins', 'DayCalls', 'DayCharge']]);"
   ]
  },
  {
   "cell_type": "code",
   "execution_count": null,
   "metadata": {},
   "outputs": [],
   "source": [
    "# Pandas native version (using Matplotlib internally).  Note that the semicolon at the end\n",
    "# supresses the printing of the object text.\n",
    "pd.plotting.scatter_matrix(churn[['DayMins', 'DayCalls', 'DayCharge']], figsize=(12, 8));"
   ]
  },
  {
   "cell_type": "code",
   "execution_count": null,
   "metadata": {},
   "outputs": [],
   "source": []
  }
 ],
 "metadata": {
  "kernelspec": {
   "display_name": "Python 3",
   "language": "python",
   "name": "python3"
  },
  "language_info": {
   "codemirror_mode": {
    "name": "ipython",
    "version": 3
   },
   "file_extension": ".py",
   "mimetype": "text/x-python",
   "name": "python",
   "nbconvert_exporter": "python",
   "pygments_lexer": "ipython3",
   "version": "3.6.4"
  }
 },
 "nbformat": 4,
 "nbformat_minor": 2
}
