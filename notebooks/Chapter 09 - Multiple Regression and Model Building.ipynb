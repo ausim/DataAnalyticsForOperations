{
 "cells": [
  {
   "cell_type": "markdown",
   "metadata": {},
   "source": [
    "# Multiple Regression and Model Building\n",
    "Material from Chapter 9 of Larose and Larose and external sources\n",
    "\n",
    "02/20/2019 - Jeff Smith"
   ]
  },
  {
   "cell_type": "code",
   "execution_count": null,
   "metadata": {},
   "outputs": [],
   "source": [
    "%matplotlib inline\n",
    "import numpy as np\n",
    "import pandas as pd\n",
    "import matplotlib.pyplot as plt\n",
    "import statsmodels.api as sm"
   ]
  },
  {
   "cell_type": "code",
   "execution_count": null,
   "metadata": {},
   "outputs": [],
   "source": [
    "# Some support functions - based on w[0] as intercept; w[1] as slope\n",
    "def cost(y, x, w) :\n",
    "    return sum((y-(w[0] + w[1]*x))**2)\n",
    "\n",
    "def show(y, x, w = [0,0], show_reg = 1) :\n",
    "    if w[0] or w[1]:\n",
    "        print(\"Solution: RSS={:,.3f}; w = [{:.4f}, {:.4f}]\".format(cost(y, x, w), w[0], w[1]))\n",
    "    plt.figure(figsize=(8,6))\n",
    "    plt.scatter(x, y);\n",
    "    if show_reg:\n",
    "        axes = plt.gca()\n",
    "        x_vals = np.array(axes.get_xlim())\n",
    "        y_vals = w[0] + w[1] * x_vals\n",
    "        plt.plot(x_vals, y_vals, '--');"
   ]
  },
  {
   "cell_type": "markdown",
   "metadata": {},
   "source": [
    "## Sample Datasets"
   ]
  },
  {
   "cell_type": "code",
   "execution_count": null,
   "metadata": {},
   "outputs": [],
   "source": [
    "# Cerals dataset from Larose and Larose\n",
    "# Read the raw data file\n",
    "cereals = pd.read_csv(\"../data/cereals.csv\")\n",
    "# The Name field has some trailing spaces -- remove them\n",
    "cereals.Name = cereals.Name.str.strip()\n",
    "# Get rid of Quaker Oatmeal -- no Sugar values (see the book)\n",
    "cereals = cereals[cereals.Name != 'Quaker_Oatmeal']\n",
    "cereals.head()"
   ]
  },
  {
   "cell_type": "code",
   "execution_count": null,
   "metadata": {},
   "outputs": [],
   "source": [
    "cereals.describe()"
   ]
  },
  {
   "cell_type": "code",
   "execution_count": null,
   "metadata": {},
   "outputs": [],
   "source": [
    "cereals.columns"
   ]
  },
  {
   "cell_type": "code",
   "execution_count": null,
   "metadata": {},
   "outputs": [],
   "source": [
    "# Show the scatter plot\n",
    "w = [0,0]\n",
    "show(cereals.Rating,cereals.Sugars,w,0)"
   ]
  },
  {
   "cell_type": "code",
   "execution_count": null,
   "metadata": {},
   "outputs": [],
   "source": [
    "# Poverty dataset from https://newonlinecourses.science.psu.edu/stat462/node/101/\n",
    "# Read the raw data file\n",
    "poverty = pd.read_csv(\"../data/teen_birthrate_poverty.csv\")\n",
    "poverty.head()"
   ]
  },
  {
   "cell_type": "code",
   "execution_count": null,
   "metadata": {},
   "outputs": [],
   "source": [
    "poverty.describe()"
   ]
  },
  {
   "cell_type": "code",
   "execution_count": null,
   "metadata": {},
   "outputs": [],
   "source": [
    "# Show the scatter plot - Brth15to17 ~ PovPct\n",
    "w =[0,0]\n",
    "show(poverty.Brth15to17, poverty.PovPct, w, 0)"
   ]
  },
  {
   "cell_type": "code",
   "execution_count": null,
   "metadata": {},
   "outputs": [],
   "source": [
    "# Lung Function dataset from https://newonlinecourses.science.psu.edu/stat462/node/101/\n",
    "# Read the raw data file\n",
    "lung = pd.read_csv(\"../data/lung_function.csv\")\n",
    "lung.head()"
   ]
  },
  {
   "cell_type": "code",
   "execution_count": null,
   "metadata": {},
   "outputs": [],
   "source": [
    "lung.describe()"
   ]
  },
  {
   "cell_type": "code",
   "execution_count": null,
   "metadata": {},
   "outputs": [],
   "source": [
    "# FEV ~ age\n",
    "w =[0,0]\n",
    "show(lung.FEV, lung.age, w, 0)"
   ]
  },
  {
   "cell_type": "markdown",
   "metadata": {},
   "source": [
    "## Statsmodels OLS function"
   ]
  },
  {
   "cell_type": "markdown",
   "metadata": {},
   "source": [
    "### Cereals Dataset"
   ]
  },
  {
   "cell_type": "code",
   "execution_count": null,
   "metadata": {},
   "outputs": [],
   "source": [
    "model.ess"
   ]
  },
  {
   "cell_type": "code",
   "execution_count": null,
   "metadata": {},
   "outputs": [],
   "source": [
    "# Cereals\n",
    "X = cereals[['Sugars']]\n",
    "y = cereals.Rating\n",
    "# by default OLS doesn't compute the constant\n",
    "X = sm.add_constant(X)\n",
    "model = sm.OLS(y, X).fit()\n",
    "predictions = model.predict(X)\n",
    "print(\"Std. Error of the estimate: {:.3f}\".format(np.sqrt(model.scale)))\n",
    "print(\"                       SSR: {:.3f}\".format(model.ess))\n",
    "model.summary()"
   ]
  },
  {
   "cell_type": "code",
   "execution_count": null,
   "metadata": {},
   "outputs": [],
   "source": [
    "X = cereals[['Sugars', 'Fiber']]\n",
    "y = cereals.Rating\n",
    "X = sm.add_constant(X)\n",
    "model = sm.OLS(y, X).fit()\n",
    "predictions = model.predict(X)\n",
    "print(\"Std. Error of the estimate: {:.3f}\".format(np.sqrt(model.scale)))\n",
    "print(\"                       SSR: {:.3f}\".format(model.ess))\n",
    "model.summary()"
   ]
  },
  {
   "cell_type": "code",
   "execution_count": null,
   "metadata": {},
   "outputs": [],
   "source": [
    "X = cereals[['Fiber']]\n",
    "y = cereals.Rating\n",
    "X = sm.add_constant(X)\n",
    "model = sm.OLS(y, X).fit()\n",
    "predictions = model.predict(X)\n",
    "print(\"Std. Error of the estimate: {:.3f}\".format(np.sqrt(model.scale)))\n",
    "print(\"                       SSR: {:.3f}\".format(model.ess))\n",
    "model.summary()"
   ]
  },
  {
   "cell_type": "code",
   "execution_count": null,
   "metadata": {},
   "outputs": [],
   "source": [
    "X = cereals[['Sugars', 'Fiber', 'Sodium']]\n",
    "y = cereals.Rating\n",
    "X = sm.add_constant(X)\n",
    "model = sm.OLS(y, X).fit()\n",
    "predictions = model.predict(X)\n",
    "print(\"Std. Error of the estimate: {:.3f}\".format(np.sqrt(model.scale)))\n",
    "print(\"                       SSR: {:.3f}\".format(model.ess))\n",
    "model.summary()"
   ]
  },
  {
   "cell_type": "code",
   "execution_count": null,
   "metadata": {},
   "outputs": [],
   "source": [
    "X = cereals[['Sugars', 'Fiber', 'Sodium', 'Fat']]\n",
    "y = cereals.Rating\n",
    "X = sm.add_constant(X)\n",
    "model = sm.OLS(y, X).fit()\n",
    "predictions = model.predict(X)\n",
    "print(\"Std. Error of the estimate: {:.3f}\".format(np.sqrt(model.scale)))\n",
    "print(\"                       SSR: {:.3f}\".format(model.ess))\n",
    "model.summary()"
   ]
  },
  {
   "cell_type": "code",
   "execution_count": null,
   "metadata": {},
   "outputs": [],
   "source": [
    "X = cereals[['Sugars', 'Fiber', 'Sodium', 'Fat', 'Carbo']]\n",
    "y = cereals.Rating\n",
    "X = sm.add_constant(X)\n",
    "model = sm.OLS(y, X).fit()\n",
    "predictions = model.predict(X)\n",
    "print(\"Std. Error of the estimate: {:.3f}\".format(np.sqrt(model.scale)))\n",
    "print(\"                       SSR: {:.3f}\".format(model.ess))\n",
    "model.summary()"
   ]
  },
  {
   "cell_type": "markdown",
   "metadata": {},
   "source": [
    "### Regression with Categorical Variables Using Indicator Variables"
   ]
  },
  {
   "cell_type": "code",
   "execution_count": null,
   "metadata": {},
   "outputs": [],
   "source": [
    "# Categorial variable with the cereal shelf (1, 2, 3)\n",
    "cereals['Shelf']"
   ]
  },
  {
   "cell_type": "code",
   "execution_count": null,
   "metadata": {},
   "outputs": [],
   "source": [
    "# Create the two indicator variables\n",
    "cereals['shelf_1'] = 0\n",
    "cereals['shelf_2'] = 0\n",
    "# Set the values according to the category for each\n",
    "cereals.loc[cereals.Shelf==1, 'shelf_1'] = 1\n",
    "cereals.loc[cereals.Shelf==2, 'shelf_2'] = 1\n",
    "# show the three variables\n",
    "cereals[['Shelf', 'shelf_1', 'shelf_2']]"
   ]
  },
  {
   "cell_type": "code",
   "execution_count": null,
   "metadata": {},
   "outputs": [],
   "source": [
    "# Regress on the two shelf indicator variables\n",
    "X = cereals[['shelf_1', 'shelf_2']]\n",
    "y = cereals.Rating\n",
    "X = sm.add_constant(X)\n",
    "model = sm.OLS(y, X).fit()\n",
    "predictions = model.predict(X)\n",
    "print(\"Std. Error of the estimate: {:.3f}\".format(np.sqrt(model.scale)))\n",
    "model.summary()"
   ]
  },
  {
   "cell_type": "code",
   "execution_count": null,
   "metadata": {},
   "outputs": [],
   "source": [
    "# Add sugars and fiber\n",
    "X = cereals[['Sugars', 'Fiber', 'shelf_1', 'shelf_2']]\n",
    "y = cereals.Rating\n",
    "X = sm.add_constant(X)\n",
    "model = sm.OLS(y, X).fit()\n",
    "predictions = model.predict(X)\n",
    "print(\"Std. Error of the estimate: {:.3f}\".format(np.sqrt(model.scale)))\n",
    "model.summary()"
   ]
  },
  {
   "cell_type": "code",
   "execution_count": null,
   "metadata": {},
   "outputs": [],
   "source": [
    "# Remove shelf_1\n",
    "X = cereals[['Sugars', 'Fiber', 'shelf_2']]\n",
    "y = cereals.Rating\n",
    "X = sm.add_constant(X)\n",
    "model = sm.OLS(y, X).fit()\n",
    "predictions = model.predict(X)\n",
    "print(\"Std. Error of the estimate: {:.3f}\".format(np.sqrt(model.scale)))\n",
    "model.summary()"
   ]
  },
  {
   "cell_type": "markdown",
   "metadata": {},
   "source": [
    "### Poverty Dataset"
   ]
  },
  {
   "cell_type": "code",
   "execution_count": null,
   "metadata": {},
   "outputs": [],
   "source": [
    "X = poverty[['PovPct']]\n",
    "y = poverty.TeenBrth\n",
    "X = sm.add_constant(X)\n",
    "model = sm.OLS(y, X).fit()\n",
    "predictions = model.predict(X)\n",
    "print(\"Std. Error of the estimate: {:.3f}\".format(np.sqrt(model.scale)))\n",
    "model.summary()"
   ]
  },
  {
   "cell_type": "code",
   "execution_count": null,
   "metadata": {},
   "outputs": [],
   "source": [
    "X = poverty[['PovPct', 'ViolCrime']]\n",
    "y = poverty.TeenBrth\n",
    "X = sm.add_constant(X)\n",
    "model = sm.OLS(y, X).fit()\n",
    "predictions = model.predict(X)\n",
    "print(\"Std. Error of the estimate: {:.3f}\".format(np.sqrt(model.scale)))\n",
    "model.summary()"
   ]
  },
  {
   "cell_type": "code",
   "execution_count": null,
   "metadata": {},
   "outputs": [],
   "source": []
  }
 ],
 "metadata": {
  "kernelspec": {
   "display_name": "Python 3",
   "language": "python",
   "name": "python3"
  },
  "language_info": {
   "codemirror_mode": {
    "name": "ipython",
    "version": 3
   },
   "file_extension": ".py",
   "mimetype": "text/x-python",
   "name": "python",
   "nbconvert_exporter": "python",
   "pygments_lexer": "ipython3",
   "version": "3.6.4"
  }
 },
 "nbformat": 4,
 "nbformat_minor": 2
}
