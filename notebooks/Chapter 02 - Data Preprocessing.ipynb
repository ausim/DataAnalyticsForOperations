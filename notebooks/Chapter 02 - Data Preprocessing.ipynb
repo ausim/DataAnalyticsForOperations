{
 "cells": [
  {
   "cell_type": "markdown",
   "metadata": {},
   "source": [
    "# Data Preprocessing\n",
    "\n",
    "Material from Chapter 2 of Larose and Larose, 2015\n",
    "\n",
    "12/20/2018 - Jeff Smith"
   ]
  },
  {
   "cell_type": "code",
   "execution_count": null,
   "metadata": {},
   "outputs": [],
   "source": [
    "% matplotlib inline\n",
    "import numpy as np\n",
    "import pandas as pd\n",
    "import matplotlib.pyplot as plt\n",
    "np.__version__, pd.__version__"
   ]
  },
  {
   "cell_type": "markdown",
   "metadata": {},
   "source": [
    "## Missing Values"
   ]
  },
  {
   "cell_type": "code",
   "execution_count": null,
   "metadata": {},
   "outputs": [],
   "source": [
    "# Read the datasets\n",
    "cars  = pd.read_csv(\"../data/cars.txt\")\n",
    "cars2 = pd.read_csv(\"../data/cars2.txt\")\n",
    "cars3 = pd.read_csv(\"../data/cars3.csv\")"
   ]
  },
  {
   "cell_type": "code",
   "execution_count": null,
   "metadata": {},
   "outputs": [],
   "source": [
    "# original dataset\n",
    "cars.head()"
   ]
  },
  {
   "cell_type": "code",
   "execution_count": null,
   "metadata": {},
   "outputs": [],
   "source": [
    "# outliers dataset\n",
    "cars2.head()"
   ]
  },
  {
   "cell_type": "code",
   "execution_count": null,
   "metadata": {},
   "outputs": [],
   "source": [
    "# Dataset with missing values\n",
    "cars3.head(10)"
   ]
  },
  {
   "cell_type": "code",
   "execution_count": null,
   "metadata": {},
   "outputs": [],
   "source": [
    "# Show the rows with missing MPG values\n",
    "cars3[cars3.mpg.isnull()]"
   ]
  },
  {
   "cell_type": "markdown",
   "metadata": {},
   "source": [
    "### Remove the rows that have missing values"
   ]
  },
  {
   "cell_type": "code",
   "execution_count": null,
   "metadata": {},
   "outputs": [],
   "source": [
    "# revmove the rows that have NaN values (in any column)\n",
    "cars4 = cars3.dropna()\n",
    "cars4"
   ]
  },
  {
   "cell_type": "markdown",
   "metadata": {},
   "source": [
    "### Replace the missing values"
   ]
  },
  {
   "cell_type": "code",
   "execution_count": null,
   "metadata": {},
   "outputs": [],
   "source": [
    "# the rows that originally had missing MPG values\n",
    "# Keep track so that we can come back and check them\n",
    "cars3.loc[[14, 18, 22, 87,103, 165],]"
   ]
  },
  {
   "cell_type": "code",
   "execution_count": null,
   "metadata": {},
   "outputs": [],
   "source": [
    "# suppose that we want to replace the NaN values with the mean MPG value\n",
    "np.mean(cars3.mpg.values)\n",
    "# oops ... nan vales"
   ]
  },
  {
   "cell_type": "code",
   "execution_count": null,
   "metadata": {},
   "outputs": [],
   "source": [
    "# Option 1 -- use nanmean\n",
    "np.nanmean(cars3.mpg.values)"
   ]
  },
  {
   "cell_type": "code",
   "execution_count": null,
   "metadata": {},
   "outputs": [],
   "source": [
    "# Option 2 -- use the Pandas series directly \n",
    "cars3.mpg.mean()"
   ]
  },
  {
   "cell_type": "code",
   "execution_count": null,
   "metadata": {},
   "outputs": [],
   "source": [
    "# Standard iteration method\n",
    "y = cars3.mpg.mean()\n",
    "for j in range(len(cars3)):\n",
    "    if np.isnan(cars3.iloc[j,0]):\n",
    "        cars3.iloc[j,0] = y"
   ]
  },
  {
   "cell_type": "code",
   "execution_count": null,
   "metadata": {},
   "outputs": [],
   "source": [
    "# suppose that we want to replace all the NaN's in the numeric columns\n",
    "# with the mean of that column\n",
    "means = cars3.mean(axis=0)\n",
    "means"
   ]
  },
  {
   "cell_type": "code",
   "execution_count": null,
   "metadata": {},
   "outputs": [],
   "source": [
    "# Now use a nested loop where the outer loop goes through the columns that\n",
    "# you want to change.\n",
    "for i in [0, 2, 3, 4, 5]:\n",
    "    for j in range(len(cars3)):\n",
    "        if np.isnan(cars3.iloc[j,i]):\n",
    "            cars3.iloc[j,i] = means[i]\n",
    "cars3.head(10)"
   ]
  },
  {
   "cell_type": "code",
   "execution_count": null,
   "metadata": {},
   "outputs": [],
   "source": [
    "# Replace NaN values with a sample from the distribution of\n",
    "# existing values.\n",
    "# Observed distribution of mpg values -- histogram\n",
    "# Have to ignore the NAN values\n",
    "plt.hist(cars3.mpg[~np.isnan(cars3.mpg)]);"
   ]
  },
  {
   "cell_type": "code",
   "execution_count": null,
   "metadata": {},
   "outputs": [],
   "source": [
    "# Can sample from the distribution simply by sampling from the actual observed values\n",
    "# So, we need to sample values from the vector with the NANs removed\n",
    "mpgs = cars3.mpg[~np.isnan(cars3.mpg)]\n",
    "# now that we have the vector of actual values, sample 10 random values\n",
    "for j in range(10):\n",
    "    print(np.random.choice(mpgs))"
   ]
  },
  {
   "cell_type": "code",
   "execution_count": null,
   "metadata": {},
   "outputs": [],
   "source": [
    "# Could use the sampling function with the standard iteration method\n",
    "# above, but using apply and a lambda function will generally be faster\n",
    "# for large datasets.\n",
    "#\n",
    "# Use a lambda function to replace the NAN value with sampled values\n",
    "#\n",
    "def mpg(row):\n",
    "    return np.random.choice(mpgs) if np.isnan(row.mpg) else row.mpg\n",
    "\n",
    "cars3['mpg'] = cars3.apply(lambda row: mpg(row),  axis=1)\n"
   ]
  },
  {
   "cell_type": "markdown",
   "metadata": {},
   "source": [
    "## Graphical Methods for Identifying Outliers"
   ]
  },
  {
   "cell_type": "code",
   "execution_count": null,
   "metadata": {},
   "outputs": [],
   "source": [
    "ax = plt.axes()\n",
    "ax.set(xlabel='Weight', ylabel='Frequency',\n",
    "       title='Vehicle Weight');\n",
    "plt.hist(cars2['weightlbs'])"
   ]
  },
  {
   "cell_type": "code",
   "execution_count": null,
   "metadata": {},
   "outputs": [],
   "source": [
    "ax = plt.axes()\n",
    "ax.set(xlabel='Weight', ylabel='MPG',\n",
    "       title='MPG vs. Weight');\n",
    "plt.scatter(cars2['weightlbs'], cars2['mpg'], c=cars2['cylinders']);"
   ]
  },
  {
   "cell_type": "markdown",
   "metadata": {},
   "source": [
    "## Measures of Center and Spread"
   ]
  },
  {
   "cell_type": "code",
   "execution_count": null,
   "metadata": {},
   "outputs": [],
   "source": [
    "cars2.describe()"
   ]
  },
  {
   "cell_type": "markdown",
   "metadata": {},
   "source": [
    "## Data Transformation"
   ]
  },
  {
   "cell_type": "code",
   "execution_count": null,
   "metadata": {},
   "outputs": [],
   "source": [
    "# Look a the columns\n",
    "cars.columns"
   ]
  },
  {
   "cell_type": "markdown",
   "metadata": {},
   "source": [
    "### Z-score Standardization"
   ]
  },
  {
   "cell_type": "code",
   "execution_count": null,
   "metadata": {},
   "outputs": [],
   "source": [
    "# Z-score standardization of the weight\n",
    "cars['zweightlbs'] = (cars['weightlbs']-np.mean(cars['weightlbs']))/np.std(cars['weightlbs'])"
   ]
  },
  {
   "cell_type": "code",
   "execution_count": null,
   "metadata": {},
   "outputs": [],
   "source": [
    "np.mean(cars['weightlbs']), np.std(cars['weightlbs'])"
   ]
  },
  {
   "cell_type": "code",
   "execution_count": null,
   "metadata": {},
   "outputs": [],
   "source": [
    "np.mean(cars['zweightlbs']), np.std(cars['zweightlbs'])"
   ]
  },
  {
   "cell_type": "code",
   "execution_count": null,
   "metadata": {},
   "outputs": [],
   "source": [
    "fig, ax = plt.subplots(1, 2, figsize=(12,5))\n",
    "ax[0].hist(cars.weightlbs)\n",
    "ax[0].set(xlabel='Weight (lbs.)', ylabel='Frequency',\n",
    "       title='Vehicle Weight');\n",
    "ax[1].hist(cars.zweightlbs)\n",
    "ax[1].set(xlabel='Z-score of Weight', ylabel='Frequency',\n",
    "       title='Vehicle Weigth');"
   ]
  },
  {
   "cell_type": "markdown",
   "metadata": {},
   "source": [
    "### Min-Max Normalization"
   ]
  },
  {
   "cell_type": "code",
   "execution_count": null,
   "metadata": {},
   "outputs": [],
   "source": [
    "# min-max normalize the horsepower\n",
    "cars['mmhp'] = (cars['hp'] - np.min(cars['hp']))/(np.max(cars['hp']) - np.min(cars['hp']))"
   ]
  },
  {
   "cell_type": "code",
   "execution_count": null,
   "metadata": {},
   "outputs": [],
   "source": [
    "# note the switch to dot notation for the columns.\n",
    "np.mean(cars.hp), np.std(cars.hp)"
   ]
  },
  {
   "cell_type": "code",
   "execution_count": null,
   "metadata": {},
   "outputs": [],
   "source": [
    "np.mean(cars.mmhp), np.std(cars.mmhp)"
   ]
  },
  {
   "cell_type": "code",
   "execution_count": null,
   "metadata": {},
   "outputs": [],
   "source": [
    "fig, ax = plt.subplots(1, 2, figsize=(12,5))\n",
    "ax[0].hist(cars.hp)\n",
    "ax[0].set(xlabel='Horsepower', ylabel='Frequency',\n",
    "       title='Vehicle Horsepower');\n",
    "ax[1].hist(cars.mmhp)\n",
    "ax[1].set(xlabel='Min-Max Normallized Weight', ylabel='Frequency',\n",
    "       title='Vehicle Horsepower');"
   ]
  },
  {
   "cell_type": "code",
   "execution_count": null,
   "metadata": {},
   "outputs": [],
   "source": [
    "cars.head(10)"
   ]
  }
 ],
 "metadata": {
  "kernelspec": {
   "display_name": "Python 3",
   "language": "python",
   "name": "python3"
  },
  "language_info": {
   "codemirror_mode": {
    "name": "ipython",
    "version": 3
   },
   "file_extension": ".py",
   "mimetype": "text/x-python",
   "name": "python",
   "nbconvert_exporter": "python",
   "pygments_lexer": "ipython3",
   "version": "3.6.4"
  }
 },
 "nbformat": 4,
 "nbformat_minor": 2
}
