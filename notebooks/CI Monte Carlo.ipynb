{
 "cells": [
  {
   "cell_type": "markdown",
   "metadata": {},
   "source": [
    "# Monte Carlo Explaination of Probability vs. Confidence\n",
    "## Plus a copule bonuses -- the Bonferroni Inequalty, t-statistic/P-value\n",
    "\n",
    "1/29/2019 - Jeff Smith"
   ]
  },
  {
   "cell_type": "code",
   "execution_count": null,
   "metadata": {},
   "outputs": [],
   "source": [
    "# Inspired by https://stackoverflow.com/questions/15033511/compute-a-confidence-interval-from-sample-data\n",
    "import numpy as np\n",
    "import scipy.stats\n",
    "import matplotlib.pyplot as plt\n",
    "\n",
    "def mean_confidence_interval(data, confidence=0.95):\n",
    "    a = 1.0 * np.array(data)\n",
    "    n = len(a)\n",
    "    m, se = np.mean(a), scipy.stats.sem(a)\n",
    "    h = se * scipy.stats.t.ppf((1 + confidence) / 2., n-1)\n",
    "    return m, m-h, m+h\n",
    "\n",
    "def std_confidence_interval(data, confidence=.95):\n",
    "    p = (1 - confidence)/2\n",
    "    a = 1.0 * np.array(data)\n",
    "    n = len(a)\n",
    "    s = np.std(a)\n",
    "    v = np.square(s)\n",
    "    lcl = np.sqrt(((n-1)*v)/scipy.stats.chi2.ppf((1-p), n-1))\n",
    "    ucl = np.sqrt(((n-1)*v)/scipy.stats.chi2.ppf(p, n-1))\n",
    "    return s, lcl, ucl"
   ]
  },
  {
   "cell_type": "code",
   "execution_count": null,
   "metadata": {},
   "outputs": [],
   "source": [
    "# Distribution parameters - Mean, Std Dev\n",
    "mu = 225\n",
    "sigma = 47\n",
    "# Sample size\n",
    "n = 100\n",
    "# 1-alpha for the CI\n",
    "c = .95"
   ]
  },
  {
   "cell_type": "markdown",
   "metadata": {},
   "source": [
    "## C.I. on the Mean"
   ]
  },
  {
   "cell_type": "code",
   "execution_count": null,
   "metadata": {},
   "outputs": [],
   "source": [
    "# Single Replication\n",
    "data = np.random.normal(mu, sigma, n)\n",
    "xbar, lcl, ucl = mean_confidence_interval(data, c)\n",
    "print(\"xbar: {:.3f}, CI: ({:.3f}, {:.3f})\".format(xbar, lcl, ucl))"
   ]
  },
  {
   "cell_type": "code",
   "execution_count": null,
   "metadata": {},
   "outputs": [],
   "source": [
    "# Monte Carlo\n",
    "reps = 1000\n",
    "success = 0\n",
    "means = []\n",
    "for j in range(reps):\n",
    "    data = np.random.normal(mu, sigma, n)\n",
    "#    data = np.random.uniform(mu-sigma, mu+sigma, n)\n",
    "#    data = np.random.exponential(mu, n)\n",
    "    xbar, lcl, ucl = mean_confidence_interval(data,c)\n",
    "    means.append(xbar)\n",
    "    if lcl <= mu and ucl >= mu:\n",
    "        success += 1\n",
    "print(\"Pr. of success = {:.3f}\".format(success/reps))"
   ]
  },
  {
   "cell_type": "code",
   "execution_count": null,
   "metadata": {},
   "outputs": [],
   "source": [
    "plt.hist(means);"
   ]
  },
  {
   "cell_type": "markdown",
   "metadata": {},
   "source": [
    "## C.I. on the Variance"
   ]
  },
  {
   "cell_type": "code",
   "execution_count": null,
   "metadata": {},
   "outputs": [],
   "source": [
    "data = np.random.normal(mu, sigma, n)\n",
    "s, slcl, sucl = std_confidence_interval(data, c)\n",
    "print(\"s: {:.3f}, CI: ({:.3f}, {:.3f})\".format(s, slcl, sucl))"
   ]
  },
  {
   "cell_type": "code",
   "execution_count": null,
   "metadata": {},
   "outputs": [],
   "source": [
    "# Monte Carlo\n",
    "reps = 1000\n",
    "success = 0\n",
    "stds = []\n",
    "for j in range(reps):\n",
    "    data = np.random.normal(mu, sigma, n)\n",
    "    s, lcl, ucl = std_confidence_interval(data,c)\n",
    "    stds.append(s)\n",
    "    if lcl <= sigma and ucl >= sigma:\n",
    "        success += 1\n",
    "print(\"Pr. of success = {:.3f}\".format(success/reps))"
   ]
  },
  {
   "cell_type": "code",
   "execution_count": null,
   "metadata": {},
   "outputs": [],
   "source": [
    "plt.hist(stds);"
   ]
  },
  {
   "cell_type": "markdown",
   "metadata": {},
   "source": [
    "## Bonferroni Inequality"
   ]
  },
  {
   "cell_type": "code",
   "execution_count": null,
   "metadata": {},
   "outputs": [],
   "source": [
    "# Monte Carlo\n",
    "reps = 1000\n",
    "sm = 0\n",
    "ss = 0\n",
    "sb = 0\n",
    "for j in range(reps):\n",
    "    b = 0\n",
    "    data = np.random.normal(mu, sigma, n)\n",
    "    xbar, lcl, ucl = mean_confidence_interval(data,c)\n",
    "    if lcl <= mu and ucl >= mu:\n",
    "        sm += 1\n",
    "        b = 1\n",
    "    s, lcl, ucl = std_confidence_interval(data,c)\n",
    "    if lcl <= sigma and ucl >= sigma:\n",
    "        ss += 1\n",
    "    else:\n",
    "        b = 0\n",
    "    sb += b\n",
    "print(\"Mean - Pr. of success = {:.3f}\".format(sm/reps))\n",
    "print(\" Std - Pr. of success = {:.3f}\".format(ss/reps))\n",
    "print(\"Both - Pr. of success = {:.3f}\".format(sb/reps))"
   ]
  },
  {
   "cell_type": "markdown",
   "metadata": {},
   "source": [
    "# t statistic and P-values"
   ]
  },
  {
   "cell_type": "code",
   "execution_count": null,
   "metadata": {},
   "outputs": [],
   "source": [
    "# t_0 = (x-bar-mu) / (s/sqrt(n)) -- should follow a t distribution \n",
    "# with n-1 dof if the sample is either large or follows a normal\n",
    "# distribution.\n",
    "# Monte Carlo\n",
    "reps = 100000\n",
    "n = 100\n",
    "sn = np.sqrt(n)\n",
    "ts = []\n",
    "for j in range(reps):\n",
    "    data = np.random.normal(mu, sigma, n)\n",
    "    ts.append((np.mean(data)-mu)/(np.std(data)/sn))\n",
    "plt.hist(ts,bins=100);"
   ]
  },
  {
   "cell_type": "code",
   "execution_count": null,
   "metadata": {},
   "outputs": [],
   "source": [
    "# 1-sample t-test on a random variate sample\n",
    "t, p = scipy.stats.ttest_1samp(np.random.normal(mu, sigma, n), mu)\n",
    "t, p"
   ]
  },
  {
   "cell_type": "code",
   "execution_count": null,
   "metadata": {},
   "outputs": [],
   "source": [
    "# 1-sample t-test on a random variate sample\n",
    "t, p = scipy.stats.ttest_1samp(np.random.normal(mu, sigma, n), mu+sigma)\n",
    "t, p"
   ]
  }
 ],
 "metadata": {
  "kernelspec": {
   "display_name": "Python 3",
   "language": "python",
   "name": "python3"
  },
  "language_info": {
   "codemirror_mode": {
    "name": "ipython",
    "version": 3
   },
   "file_extension": ".py",
   "mimetype": "text/x-python",
   "name": "python",
   "nbconvert_exporter": "python",
   "pygments_lexer": "ipython3",
   "version": "3.6.4"
  }
 },
 "nbformat": 4,
 "nbformat_minor": 2
}
