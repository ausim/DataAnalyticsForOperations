{
 "cells": [
  {
   "cell_type": "markdown",
   "metadata": {},
   "source": [
    "# Simple Linear Regression - Gradient Descent\n",
    "\n",
    "Jeff Smith\n",
    "<br>10/17/2018"
   ]
  },
  {
   "cell_type": "code",
   "execution_count": null,
   "metadata": {},
   "outputs": [],
   "source": [
    "%matplotlib inline\n",
    "import numpy as np\n",
    "import pandas as pd\n",
    "import matplotlib.pyplot as plt\n",
    "import scipy.stats"
   ]
  },
  {
   "cell_type": "markdown",
   "metadata": {},
   "source": [
    "## Notation\n",
    "w[] is the model\n",
    "- w[0] - intercept\n",
    "- w[1] - slope"
   ]
  },
  {
   "cell_type": "code",
   "execution_count": null,
   "metadata": {},
   "outputs": [],
   "source": [
    "def cost(y, x, w) :\n",
    "    return sum((y-(w[0] + w[1]*x))**2)\n",
    "\n",
    "# from https://stackoverflow.com/questions/17784587/gradient-descent-using-python-and-numpy\n",
    "def gen_problem (n = 10, bias = 10, variance = 5):\n",
    "    x = np.zeros(shape = n)\n",
    "    y = np.zeros(shape = n)\n",
    "    w = np.zeros(shape = 2)\n",
    "    for i in range(n):\n",
    "        x[i] = i\n",
    "        y[i] = (i + bias) + np.random.uniform(0, 1)*variance\n",
    "    return (y, x, w)\n",
    "\n",
    "def show(y, x, w, show_reg = 1) :\n",
    "    print(\"Solution: RSS={:,.3f}; w = [{:.4f}, {:.4f}]\".format(cost(y, x, w), w[0], w[1]))\n",
    "    plt.scatter(x, y)\n",
    "    if show_reg:\n",
    "        axes = plt.gca()\n",
    "        x_vals = np.array(axes.get_xlim())\n",
    "        y_vals = w[0] + w[1] * x_vals\n",
    "        plt.plot(x_vals, y_vals, '--')"
   ]
  },
  {
   "cell_type": "code",
   "execution_count": null,
   "metadata": {},
   "outputs": [],
   "source": [
    "def gradient_descent(y, x, w, eta = 0.01, iters = 100, tol = 0.001, show = 0) :\n",
    "    # assumes starting w values are passed - could set these as [0, 0 ] here\n",
    "    # but this method lets you guess values if you want.\n",
    "    if show:\n",
    "        print(\"Starting Cost: {:,.3f}, w = [{:.3f}, {:.3f}]\".format(\n",
    "            cost(y, x, w), w[0], w[1]))\n",
    "    for i in range(iters):\n",
    "        diff = y - (w[0] + w[1]*x)\n",
    "        pw0 = -2*sum(diff)\n",
    "        pw1 = -2*sum(x*diff)\n",
    "        # magnitude of the gradient vector\n",
    "        mag = np.sqrt(pw0**2 + pw1**2)\n",
    "        # normalize the gradients\n",
    "        pw0 /= mag\n",
    "        pw1 /= mag\n",
    "        # are we close enough?\n",
    "        if mag < tol:\n",
    "            break\n",
    "        w[0] = w[0] - eta*pw0\n",
    "        w[1] = w[1] - eta*pw1\n",
    "        if show:\n",
    "            print(\"Iter {:3d} Cost: {:,.3f}, w = [{:.3f}, {:.3f}], pw = [{:.3f}, {:.3f}], mag = {:,.2f}\".format(\n",
    "                i + 1, cost(y, x, w), w[0], w[1],pw0, pw1,mag))\n",
    "    return (w, cost(y, x, w), i, mag)"
   ]
  },
  {
   "cell_type": "code",
   "execution_count": null,
   "metadata": {},
   "outputs": [],
   "source": [
    "y, x, w = gen_problem(37, 50, 20)\n",
    "show(y, x, w, 0)"
   ]
  },
  {
   "cell_type": "code",
   "execution_count": null,
   "metadata": {},
   "outputs": [],
   "source": [
    "# Scipy's regression function\n",
    "w1, w0, rval, pval, stderr = scipy.stats.linregress(x, y)\n",
    "print(\"Intercept: {:.2f}; Slope: {:.2f}; r-value: {:.2f}; p-value: {:.2f}, RSS: {:.2f}\".format(\n",
    "    w0, w1, rval,pval, cost(y, x, [w0, w1])))"
   ]
  },
  {
   "cell_type": "code",
   "execution_count": null,
   "metadata": {
    "scrolled": false
   },
   "outputs": [],
   "source": [
    "# Our gradient descent function\n",
    "w = [0,0]\n",
    "w, rss, iters, mag = gradient_descent(y, x, w, 0.01, 10000, 1, 0)\n",
    "show(y, x, w)\n",
    "iters+1, mag"
   ]
  },
  {
   "cell_type": "code",
   "execution_count": null,
   "metadata": {},
   "outputs": [],
   "source": [
    "# Poverty dataset from https://newonlinecourses.science.psu.edu/stat462/node/101/\n",
    "# Read the raw data file\n",
    "poverty = pd.read_csv(\"../data/teen_birthrate_poverty.csv\")"
   ]
  },
  {
   "cell_type": "code",
   "execution_count": null,
   "metadata": {},
   "outputs": [],
   "source": [
    "# linregress version\n",
    "# Poverty\n",
    "w = [0,0]\n",
    "w[1], w[0], rval, pval, stderr = scipy.stats.linregress(poverty.PovPct, poverty.Brth15to17)\n",
    "print(\"Intercept: {:.2f}; Slope: {:.2f}; r-Square: {:.2f}; p-value: {:.2f}; se grad.: {:.2f}\".\n",
    "      format(w[0], w[1], rval**2,pval, stderr))\n",
    "show(poverty.Brth15to17, poverty.PovPct, w)"
   ]
  },
  {
   "cell_type": "code",
   "execution_count": null,
   "metadata": {},
   "outputs": [],
   "source": [
    "w = [0,0]\n",
    "w, rss, iters, mag = gradient_descent(poverty.Brth15to17, poverty.PovPct, w, .001, 5000, 0.5, 0)\n",
    "show(poverty.Brth15to17, poverty.PovPct, w)"
   ]
  },
  {
   "cell_type": "code",
   "execution_count": null,
   "metadata": {},
   "outputs": [],
   "source": [
    "# Cereals\n",
    "# Cerals dataset from Larose and Larose\n",
    "# Read the raw data file\n",
    "cereals = pd.read_csv(\"../data/cereals.csv\")\n",
    "# The Name field has some trailing spaces -- remove them\n",
    "cereals.Name = cereals.Name.str.strip()\n",
    "# Get rid of Quaker Oatmeal -- no Sugar values (see the book)\n",
    "cereals = cereals[cereals.Name != 'Quaker_Oatmeal']\n",
    "w[1], w[0], rval, pval, stderr = scipy.stats.linregress(cereals.Sugars, cereals.Rating)\n",
    "print(\"Intercept: {:.2f}; Slope: {:.2f}; r-Square: {:.2f}; p-value: {:.2f}; se grad.: {:.2f}\".\n",
    "      format(w[0], w[1], rval**2,pval, stderr))\n",
    "show(cereals.Rating, cereals.Sugars, w)"
   ]
  },
  {
   "cell_type": "code",
   "execution_count": null,
   "metadata": {},
   "outputs": [],
   "source": [
    "w = [0,0]\n",
    "x = cereals.Sugars\n",
    "y = cereals.Rating\n",
    "w, rss, iters, mag = gradient_descent(y,x, w, .05, 5000, 0.01, 0)\n",
    "show(y,x, w)"
   ]
  },
  {
   "cell_type": "code",
   "execution_count": null,
   "metadata": {},
   "outputs": [],
   "source": []
  }
 ],
 "metadata": {
  "kernelspec": {
   "display_name": "Python 3",
   "language": "python",
   "name": "python3"
  },
  "language_info": {
   "codemirror_mode": {
    "name": "ipython",
    "version": 3
   },
   "file_extension": ".py",
   "mimetype": "text/x-python",
   "name": "python",
   "nbconvert_exporter": "python",
   "pygments_lexer": "ipython3",
   "version": "3.6.4"
  }
 },
 "nbformat": 4,
 "nbformat_minor": 2
}
