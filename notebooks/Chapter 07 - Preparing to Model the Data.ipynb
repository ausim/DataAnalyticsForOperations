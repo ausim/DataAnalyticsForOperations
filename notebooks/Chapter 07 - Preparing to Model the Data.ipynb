{
 "cells": [
  {
   "cell_type": "markdown",
   "metadata": {},
   "source": [
    "# Preparing to Model the Data\n",
    "\n",
    "Material from Chapter 7\n",
    "\n",
    "Jeff Smith"
   ]
  },
  {
   "cell_type": "code",
   "execution_count": null,
   "metadata": {},
   "outputs": [],
   "source": [
    "# Standard Setup\n",
    "% matplotlib inline\n",
    "import numpy as np\n",
    "import pandas as pd\n",
    "import matplotlib.pyplot as plt\n",
    "import scipy.stats\n",
    "np.__version__, pd.__version__"
   ]
  },
  {
   "cell_type": "code",
   "execution_count": null,
   "metadata": {},
   "outputs": [],
   "source": [
    "# Churn Dataset\n",
    "churn = pd.read_csv(\"../data/churn.txt\")\n",
    "print (\"The churn dataset has {:,d} records with {:,d} variables each.\".format(\n",
    "    len(churn), len(churn.columns)))"
   ]
  },
  {
   "cell_type": "code",
   "execution_count": null,
   "metadata": {},
   "outputs": [],
   "source": [
    "# Holdout Method\n",
    "# Splitting the churn dataset into a \"training\" and a \"test\" set\n",
    "# Option 1 - split using a target percentage\n",
    "mask = np.random.rand(len(churn)) < 0.75\n",
    "churn_train = churn[mask]\n",
    "churn_test = churn[~mask]\n",
    "len(churn_train), len(churn_test)"
   ]
  },
  {
   "cell_type": "code",
   "execution_count": null,
   "metadata": {},
   "outputs": [],
   "source": [
    "# Option 2 - split using a fixed size\n",
    "# size of the test dataset\n",
    "test_size = 833\n",
    "# create the list of indices\n",
    "seq = np.arange(len(churn))\n",
    "# random shuffle the list\n",
    "np.random.shuffle(seq)\n",
    "# split into test/train\n",
    "churn_train = churn.iloc[seq[test_size:],:]\n",
    "churn_test = churn.iloc[seq[:test_size],:]\n",
    "len(churn_train), len(churn_test)"
   ]
  },
  {
   "cell_type": "code",
   "execution_count": null,
   "metadata": {},
   "outputs": [],
   "source": []
  }
 ],
 "metadata": {
  "kernelspec": {
   "display_name": "Python 3",
   "language": "python",
   "name": "python3"
  },
  "language_info": {
   "codemirror_mode": {
    "name": "ipython",
    "version": 3
   },
   "file_extension": ".py",
   "mimetype": "text/x-python",
   "name": "python",
   "nbconvert_exporter": "python",
   "pygments_lexer": "ipython3",
   "version": "3.6.4"
  }
 },
 "nbformat": 4,
 "nbformat_minor": 2
}
